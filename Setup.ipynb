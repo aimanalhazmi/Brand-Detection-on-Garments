{
 "cells": [
  {
   "cell_type": "code",
   "execution_count": null,
   "id": "c9574952",
   "metadata": {},
   "outputs": [],
   "source": [
    "# Package installations\n",
    "!pip install --index-url https://${FIFTYONE_PYPI_TOKEN}@pypi.fiftyone.ai fiftyone==${FIFTYONE_VERSION}\n",
    "!pip install torch==2.0.1+cu117 torchvision==0.15.2+cu117 --index-url https://download.pytorch.org/whl/cu117\n",
    "!pip install numpy==1.25\n"
   ]
  },
  {
   "cell_type": "code",
   "execution_count": 5,
   "id": "9cdf0cd5",
   "metadata": {},
   "outputs": [],
   "source": [
    "%%capture    \n",
    "import os\n",
    "os.environ['FIFTYONE_DATABASE_NAME'] = 'fiftyone-teams'"
   ]
  },
  {
   "cell_type": "code",
   "execution_count": 6,
   "id": "77b08cdd",
   "metadata": {},
   "outputs": [
    {
     "ename": "ConnectionError",
     "evalue": "Cannot connect to database type 'fiftyone' with client type 'fiftyone-teams'",
     "output_type": "error",
     "traceback": [
      "\u001b[0;31m---------------------------------------------------------------------------\u001b[0m",
      "\u001b[0;31mConnectionError\u001b[0m                           Traceback (most recent call last)",
      "Cell \u001b[0;32mIn[6], line 1\u001b[0m\n\u001b[0;32m----> 1\u001b[0m \u001b[38;5;28;01mimport\u001b[39;00m \u001b[38;5;21;01mfiftyone\u001b[39;00m \u001b[38;5;28;01mas\u001b[39;00m \u001b[38;5;21;01mfo\u001b[39;00m\n\u001b[1;32m      2\u001b[0m \u001b[38;5;28;01mfrom\u001b[39;00m \u001b[38;5;21;01mskimage\u001b[39;00m \u001b[38;5;28;01mimport\u001b[39;00m io, transform\n\u001b[1;32m      3\u001b[0m \u001b[38;5;28;01mimport\u001b[39;00m \u001b[38;5;21;01mmatplotlib\u001b[39;00m\u001b[38;5;21;01m.\u001b[39;00m\u001b[38;5;21;01mpyplot\u001b[39;00m \u001b[38;5;28;01mas\u001b[39;00m \u001b[38;5;21;01mplt\u001b[39;00m \n",
      "File \u001b[0;32m/opt/conda/lib/python3.9/site-packages/fiftyone/__init__.py:25\u001b[0m\n\u001b[1;32m     21\u001b[0m \u001b[38;5;28;01mimport\u001b[39;00m \u001b[38;5;21;01mfiftyone\u001b[39;00m\u001b[38;5;21;01m.\u001b[39;00m\u001b[38;5;21;01mconstants\u001b[39;00m \u001b[38;5;28;01mas\u001b[39;00m \u001b[38;5;21;01m_foc\u001b[39;00m\n\u001b[1;32m     23\u001b[0m __version__ \u001b[38;5;241m=\u001b[39m _foc\u001b[38;5;241m.\u001b[39mTEAMS_VERSION\n\u001b[0;32m---> 25\u001b[0m \u001b[38;5;28;01mfrom\u001b[39;00m \u001b[38;5;21;01mfiftyone\u001b[39;00m\u001b[38;5;21;01m.\u001b[39;00m\u001b[38;5;21;01m__public__\u001b[39;00m \u001b[38;5;28;01mimport\u001b[39;00m \u001b[38;5;241m*\u001b[39m\n\u001b[1;32m     27\u001b[0m \u001b[38;5;28;01mimport\u001b[39;00m \u001b[38;5;21;01mfiftyone\u001b[39;00m\u001b[38;5;21;01m.\u001b[39;00m\u001b[38;5;21;01mcore\u001b[39;00m\u001b[38;5;21;01m.\u001b[39;00m\u001b[38;5;21;01mlogging\u001b[39;00m \u001b[38;5;28;01mas\u001b[39;00m \u001b[38;5;21;01m_fol\u001b[39;00m\n\u001b[1;32m     28\u001b[0m \u001b[38;5;28;01mimport\u001b[39;00m \u001b[38;5;21;01mfiftyone\u001b[39;00m\u001b[38;5;21;01m.\u001b[39;00m\u001b[38;5;21;01mcore\u001b[39;00m\u001b[38;5;21;01m.\u001b[39;00m\u001b[38;5;21;01mstorage\u001b[39;00m \u001b[38;5;28;01mas\u001b[39;00m \u001b[38;5;21;01m_fos\u001b[39;00m\n",
      "File \u001b[0;32m/opt/conda/lib/python3.9/site-packages/fiftyone/__public__.py:17\u001b[0m\n\u001b[1;32m     14\u001b[0m app_config \u001b[38;5;241m=\u001b[39m _foc\u001b[38;5;241m.\u001b[39mload_app_config()\n\u001b[1;32m     15\u001b[0m media_cache_config \u001b[38;5;241m=\u001b[39m _foc\u001b[38;5;241m.\u001b[39mload_media_cache_config()\n\u001b[0;32m---> 17\u001b[0m \u001b[43m_foo\u001b[49m\u001b[38;5;241;43m.\u001b[39;49m\u001b[43mestablish_db_conn\u001b[49m\u001b[43m(\u001b[49m\u001b[43mconfig\u001b[49m\u001b[43m)\u001b[49m\n\u001b[1;32m     18\u001b[0m _foca\u001b[38;5;241m.\u001b[39minit_media_cache(media_cache_config)\n\u001b[1;32m     20\u001b[0m media_cache \u001b[38;5;241m=\u001b[39m _foca\u001b[38;5;241m.\u001b[39mmedia_cache\n",
      "File \u001b[0;32m/opt/conda/lib/python3.9/site-packages/fiftyone/core/odm/database.py:269\u001b[0m, in \u001b[0;36mestablish_db_conn\u001b[0;34m(config)\u001b[0m\n\u001b[1;32m    267\u001b[0m config \u001b[38;5;241m=\u001b[39m get_db_config()\n\u001b[1;32m    268\u001b[0m \u001b[38;5;28;01mif\u001b[39;00m foc\u001b[38;5;241m.\u001b[39mCLIENT_TYPE \u001b[38;5;241m!=\u001b[39m config\u001b[38;5;241m.\u001b[39mtype:\n\u001b[0;32m--> 269\u001b[0m     \u001b[38;5;28;01mraise\u001b[39;00m \u001b[38;5;167;01mConnectionError\u001b[39;00m(\n\u001b[1;32m    270\u001b[0m         \u001b[38;5;124m\"\u001b[39m\u001b[38;5;124mCannot connect to database type \u001b[39m\u001b[38;5;124m'\u001b[39m\u001b[38;5;132;01m%s\u001b[39;00m\u001b[38;5;124m'\u001b[39m\u001b[38;5;124m with client type \u001b[39m\u001b[38;5;124m'\u001b[39m\u001b[38;5;132;01m%s\u001b[39;00m\u001b[38;5;124m'\u001b[39m\u001b[38;5;124m\"\u001b[39m\n\u001b[1;32m    271\u001b[0m         \u001b[38;5;241m%\u001b[39m (config\u001b[38;5;241m.\u001b[39mtype, foc\u001b[38;5;241m.\u001b[39mCLIENT_TYPE)\n\u001b[1;32m    272\u001b[0m     )\n",
      "\u001b[0;31mConnectionError\u001b[0m: Cannot connect to database type 'fiftyone' with client type 'fiftyone-teams'"
     ]
    }
   ],
   "source": [
    "import fiftyone as fo\n",
    "from skimage import io, transform\n",
    "import matplotlib.pyplot as plt "
   ]
  },
  {
   "cell_type": "code",
   "execution_count": null,
   "id": "07f72d13",
   "metadata": {},
   "outputs": [],
   "source": [
    "ds = fo.load_dataset(\"sellpy-test\")\n",
    "sample = ds[\"64c8b32ef1e3091b5ec177d7\"]\n",
    "#plt.imshow(io.imread())\n",
    "\n",
    "# Funktioniert nicht mit den Original Bildern \n",
    "file_path = sample.get_local_path(\"filepath\")\n",
    "image = io.imread(file_path)\n",
    "\n"
   ]
  },
  {
   "cell_type": "code",
   "execution_count": 7,
   "id": "11b6737c",
   "metadata": {},
   "outputs": [
    {
     "ename": "NameError",
     "evalue": "name 'plt' is not defined",
     "output_type": "error",
     "traceback": [
      "\u001b[0;31m---------------------------------------------------------------------------\u001b[0m",
      "\u001b[0;31mNameError\u001b[0m                                 Traceback (most recent call last)",
      "Cell \u001b[0;32mIn[7], line 1\u001b[0m\n\u001b[0;32m----> 1\u001b[0m \u001b[43mplt\u001b[49m\u001b[38;5;241m.\u001b[39mimshow(image)\n",
      "\u001b[0;31mNameError\u001b[0m: name 'plt' is not defined"
     ]
    }
   ],
   "source": [
    "plt.imshow(image)"
   ]
  },
  {
   "cell_type": "code",
   "execution_count": 10,
   "id": "48729559",
   "metadata": {},
   "outputs": [
    {
     "name": "stdout",
     "output_type": "stream",
     "text": [
      "3.9.13 | packaged by conda-forge | (main, May 27 2022, 16:56:21) \n",
      "[GCC 10.3.0]\n"
     ]
    }
   ],
   "source": [
    "import sys\n",
    "print(sys.version)"
   ]
  },
  {
   "cell_type": "code",
   "execution_count": null,
   "id": "9745dfb2",
   "metadata": {},
   "outputs": [],
   "source": []
  },
  {
   "cell_type": "code",
   "execution_count": null,
   "id": "9464bfe6",
   "metadata": {},
   "outputs": [],
   "source": []
  }
 ],
 "metadata": {
  "kernelspec": {
   "display_name": "Python 3 (ipykernel)",
   "language": "python",
   "name": "python3"
  },
  "language_info": {
   "codemirror_mode": {
    "name": "ipython",
    "version": 3
   },
   "file_extension": ".py",
   "mimetype": "text/x-python",
   "name": "python",
   "nbconvert_exporter": "python",
   "pygments_lexer": "ipython3",
   "version": "3.9.13"
  }
 },
 "nbformat": 4,
 "nbformat_minor": 5
}
