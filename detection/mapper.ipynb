{
 "cells": [
  {
   "cell_type": "code",
   "execution_count": 23,
   "id": "46befa1c",
   "metadata": {},
   "outputs": [
    {
     "name": "stdout",
     "output_type": "stream",
     "text": [
      "Requirement already satisfied: pyyaml in /opt/conda/lib/python3.9/site-packages (5.4.1)\n"
     ]
    }
   ],
   "source": [
    "!pip install pyyaml"
   ]
  },
  {
   "cell_type": "code",
   "execution_count": 24,
   "id": "67fe4654",
   "metadata": {},
   "outputs": [],
   "source": [
    "import os\n",
    "import fiftyone as fo\n",
    "import yaml\n",
    "from skimage import io, transform\n",
    "import matplotlib.pyplot as plt \n",
    "import numpy as np"
   ]
  },
  {
   "cell_type": "code",
   "execution_count": 25,
   "id": "8471a3cd",
   "metadata": {},
   "outputs": [
    {
     "name": "stdout",
     "output_type": "stream",
     "text": [
      "/home/jovyan/BA/detection\n"
     ]
    }
   ],
   "source": [
    "CURRENT_DIR = os.getcwd()\n",
    "DATA_PATH = os.path.join(CURRENT_DIR, 'Dataset')\n",
    "yaml_file = os.path.join(DATA_PATH, \"data.yaml\")\n",
    "print(CURRENT_DIR) "
   ]
  },
  {
   "cell_type": "code",
   "execution_count": 8,
   "id": "b1afed46",
   "metadata": {},
   "outputs": [],
   "source": [
    "# Load the dataset from fiftyone\n",
    "ds = fo.load_dataset(\"sellpy-test\")"
   ]
  },
  {
   "cell_type": "code",
   "execution_count": 9,
   "id": "55c0f4c9",
   "metadata": {},
   "outputs": [
    {
     "name": "stdout",
     "output_type": "stream",
     "text": [
      "Dataset:     sellpy-test\n",
      "Media type:  image\n",
      "Num samples: 204676\n",
      "Sample fields:\n",
      "    id:             fiftyone.core.fields.ObjectIdField\n",
      "    filepath:       fiftyone.core.fields.StringField\n",
      "    tags:           fiftyone.core.fields.ListField(fiftyone.core.fields.StringField)\n",
      "    metadata:       fiftyone.core.fields.EmbeddedDocumentField(fiftyone.core.metadata.ImageMetadata)\n",
      "    lvl0:           fiftyone.core.fields.EmbeddedDocumentField(fiftyone.core.labels.Classification)\n",
      "    lvl1:           fiftyone.core.fields.EmbeddedDocumentField(fiftyone.core.labels.Classification)\n",
      "    lvl2:           fiftyone.core.fields.EmbeddedDocumentField(fiftyone.core.labels.Classification)\n",
      "    lvl3:           fiftyone.core.fields.EmbeddedDocumentField(fiftyone.core.labels.Classification)\n",
      "    size:           fiftyone.core.fields.EmbeddedDocumentField(fiftyone.core.labels.Classification)\n",
      "    color:          fiftyone.core.fields.EmbeddedDocumentField(fiftyone.core.labels.Classification)\n",
      "    fabric:         fiftyone.core.fields.EmbeddedDocumentField(fiftyone.core.labels.Classification)\n",
      "    brand:          fiftyone.core.fields.EmbeddedDocumentField(fiftyone.core.labels.Classification)\n",
      "    demography:     fiftyone.core.fields.EmbeddedDocumentField(fiftyone.core.labels.Classification)\n",
      "    type:           fiftyone.core.fields.EmbeddedDocumentField(fiftyone.core.labels.Classification)\n",
      "    Grounding_Dino: fiftyone.core.fields.EmbeddedDocumentField(fiftyone.core.labels.Detections)\n",
      "    yolo:           fiftyone.core.fields.EmbeddedDocumentField(fiftyone.core.labels.Detections)\n",
      "    mask_mannequin: fiftyone.core.fields.EmbeddedDocumentField(fiftyone.core.labels.Segmentation)\n",
      "    mask_neck:      fiftyone.core.fields.EmbeddedDocumentField(fiftyone.core.labels.Segmentation)\n",
      "View stages:\n",
      "    1. Match(filter={'$expr': {'$gt': [...]}})\n"
     ]
    }
   ],
   "source": [
    "#limit = 10000\n",
    "# get all ids\n",
    "ds_temp = ds.match(fo.ViewField(\"Grounding_Dino\") !=  None)\n",
    "print(ds_temp)\n",
    "ids = ds_temp.values(\"id\")\n",
    "# check weather the sample contains a logo\n",
    "contains_logo = [\"logo\" in values for values in ds_temp.values(\"Grounding_Dino.detections.label\")]\n",
    "# get ids of sample containing a logo \n",
    "ids_contains_logo = np.array(ids)[contains_logo]\n",
    "# filter the data set to contain only samples with a logo found\n",
    "ds_with_logos = ds[ids_contains_logo]"
   ]
  },
  {
   "cell_type": "code",
   "execution_count": 95,
   "id": "cdf959a1",
   "metadata": {},
   "outputs": [],
   "source": [
    "all_brands = ds_with_logos.count_values('brand.label')"
   ]
  },
  {
   "cell_type": "code",
   "execution_count": 78,
   "id": "3611cec5",
   "metadata": {},
   "outputs": [],
   "source": [
    "total_fiftyone_images = sum(all_brands.values())"
   ]
  },
  {
   "cell_type": "code",
   "execution_count": 101,
   "id": "c9d30ff9",
   "metadata": {},
   "outputs": [
    {
     "data": {
      "text/plain": [
       "5177"
      ]
     },
     "execution_count": 101,
     "metadata": {},
     "output_type": "execute_result"
    }
   ],
   "source": [
    "all_classes_in_fiftyone = list(all_brands.keys())\n",
    "len(all_classes_in_fiftyone)"
   ]
  },
  {
   "cell_type": "code",
   "execution_count": 102,
   "id": "59b8e909",
   "metadata": {},
   "outputs": [],
   "source": [
    "with open(yaml_file, 'r') as file:\n",
    "    yamlFile = yaml.safe_load(file)   "
   ]
  },
  {
   "cell_type": "code",
   "execution_count": 103,
   "id": "fcaaadff",
   "metadata": {},
   "outputs": [
    {
     "data": {
      "text/plain": [
       "569"
      ]
     },
     "execution_count": 103,
     "metadata": {},
     "output_type": "execute_result"
    }
   ],
   "source": [
    "all_classes_in_yolo = (yamlFile['names'])\n",
    "len(all_classes_in_yolo)"
   ]
  },
  {
   "cell_type": "code",
   "execution_count": 114,
   "id": "040fe9fc",
   "metadata": {},
   "outputs": [],
   "source": [
    "import re\n",
    "def normalize_brands(brand_list):\n",
    "    normalized = []\n",
    "    for brand in brand_list:\n",
    "        # Umwandlung in Kleinbuchstaben\n",
    "        brand = brand.lower()\n",
    "        # Entfernen aller Wörter nach dem ersten\n",
    "        #clean_brand = re.sub(r'\\s.*', '', brand)\n",
    "        normalized.append(brand)\n",
    "    return normalized\n",
    "\n",
    "all_classes_in_fiftyone_normalized = normalize_brands(all_classes_in_fiftyone)\n",
    "all_classes_in_yolo_normalized = normalize_brands(all_classes_in_yolo)\n",
    "matches = set(all_classes_in_yolo_normalized).intersection(set(all_classes_in_fiftyone_normalized))"
   ]
  },
  {
   "cell_type": "code",
   "execution_count": 115,
   "id": "b447811b",
   "metadata": {},
   "outputs": [
    {
     "data": {
      "text/plain": [
       "118"
      ]
     },
     "execution_count": 115,
     "metadata": {},
     "output_type": "execute_result"
    }
   ],
   "source": [
    "len(matches)"
   ]
  },
  {
   "cell_type": "code",
   "execution_count": 116,
   "id": "c1fa0797",
   "metadata": {},
   "outputs": [
    {
     "name": "stdout",
     "output_type": "stream",
     "text": [
      "Total fiftyone Brands: 5177\n",
      "Total fiftyone images: 37507\n",
      "Total Logo3K Brands: 569\n",
      "Total Matches found: 118\n",
      "...............................................\n",
      "{'Old Navy': 7, 'Pepe Jeans': 25, 'RVCA': 1, 'Emilio': 5, 'Moncler': 3, 'Wonderbra': 3, 'Everlast': 4, 'Montane': 1, 'New Balance': 28, 'Ermenegildo Zegna': 1, 'Karhu': 25, 'Wrangler': 19, 'Missoni': 2, 'Rare': 2, 'Joules': 7, 'Imperial': 1, 'Frank Dandy': 7, 'Vince Camuto': 1, 'Hurley': 2, 'Calvin Klein Underwear': 1, \"Arc'teryx\": 1, 'Lonsdale': 3, 'Columbia': 18, 'Napapijri': 28, 'Marc by Marc Jacobs': 3, 'Happy Socks': 8, 'Corneliani': 1, 'Mexx': 33, 'The North Face': 168, 'Versace': 1, 'Tom Tailor': 63, 'Barbie': 3, 'Canada Goose': 2, 'Heat': 1, 'Schiesser': 3, 'Guess': 66, 'Etro': 3, 'Tommy Hilfiger': 366, 'Givova': 1, 'Uniqlo': 46, 'Ellesse': 87, 'Lacoste': 57, 'Izod': 3, 'Chaps': 1, 'Salomon': 21, 'Head': 5, 'Hugo Boss': 17, 'Akris': 1, 'Strellson': 2, 'Miss Sixty': 6, 'Seafolly': 2, 'Sergio Tacchini': 10, 'Abercrombie & Fitch': 131, 'Wolford': 8, 'Invicta': 2, 'Hush Puppies': 1, 'Emilio Pucci': 1, 'Kenzo': 13, 'Canterbury': 2, 'Adidas': 1909, 'Topman': 8, 'Under Armour': 129, 'French Connection': 3, 'Spanx': 4, 'Karl Kani': 4, 'Etnies': 1, 'Converse': 35, 'Gap': 62, 'Woolrich': 4, 'American Apparel': 5, 'La Perla': 1, 'Carhartt': 11, 'Freya': 3, 'Kiton': 1, 'Balmain': 1, 'New Era': 3, 'Hanes': 9, 'Tommy Bahama': 2, 'Armani Exchange': 4, 'Patagonia': 35, 'Majestic': 3, 'And1': 2, 'Rockport': 1, \"Marc O'Polo\": 56, 'Galvin Green': 9, 'Regatta': 7, 'Ed Hardy': 6, 'Los Angeles': 1, 'Skins': 4, 'Champion': 171, 'Peak Performance': 296, 'Tiger of Sweden': 46, 'Acqua Limone': 12, 'Hummel': 94, 'Berghaus': 3, 'Timberland': 11, 'Polo Ralph Lauren': 252, 'Rocky': 1, 'Aigle': 1, 'Triumph': 25, '66 North': 1, 'Kate Spade': 1, 'Anne Klein': 1, 'Obey': 7, 'Eddie Bauer': 4, 'A.P.C': 4, 'Skiny': 2, 'Charlotte Russe': 1, 'Rebecca Minkoff': 1, 'Zara': 751, 'Pierre Cardin': 4, 'Acne Studios': 37, 'Calvin Klein': 149, 'Karl Lagerfeld': 7, 'Six Deuce': 1, 'WeSC': 8, 'Antony Morato': 1, 'American Eagle': 9}\n",
      "...............................................\n",
      "Total number of images for matches: 5557\n",
      "...............................................\n"
     ]
    }
   ],
   "source": [
    "print(f'Total fiftyone Brands: {len(all_classes_in_fiftyone)}')\n",
    "print(f'Total fiftyone images: {total_fiftyone_images}')\n",
    "\n",
    "print(f'Total Logo3K Brands: {len(all_classes_in_yolo)}')\n",
    "\n",
    "# Check if there are any matches\n",
    "if matches:\n",
    "    print(\"Total Matches found:\", len(matches))\n",
    "else:\n",
    "    print(\"No matches found.\")\n",
    "model_fiftyone_labels_map = {all_classes_in_fiftyone[all_classes_in_fiftyone_normalized.index(b)]:all_classes_in_yolo_normalized.index(b) for b in matches}\n",
    "\n",
    "print('...............................................')\n",
    "idx = [all_classes_in_fiftyone_normalized.index(b) for b in matches]\n",
    "\n",
    "all_brands[all_classes_in_fiftyone[3268]]\n",
    "result_dict = {all_classes_in_fiftyone[key]:all_brands[all_classes_in_fiftyone[key]] for key in idx}\n",
    "print(result_dict)\n",
    "print('...............................................')\n",
    "print(f'Total number of images for matches: {sum(result_dict.values())}')\n",
    "print('...............................................')"
   ]
  },
  {
   "cell_type": "code",
   "execution_count": null,
   "id": "77846fc8",
   "metadata": {},
   "outputs": [],
   "source": []
  },
  {
   "cell_type": "code",
   "execution_count": null,
   "id": "e4afdee1",
   "metadata": {},
   "outputs": [],
   "source": []
  }
 ],
 "metadata": {
  "kernelspec": {
   "display_name": "Python 3 (ipykernel)",
   "language": "python",
   "name": "python3"
  },
  "language_info": {
   "codemirror_mode": {
    "name": "ipython",
    "version": 3
   },
   "file_extension": ".py",
   "mimetype": "text/x-python",
   "name": "python",
   "nbconvert_exporter": "python",
   "pygments_lexer": "ipython3",
   "version": "3.9.13"
  }
 },
 "nbformat": 4,
 "nbformat_minor": 5
}
