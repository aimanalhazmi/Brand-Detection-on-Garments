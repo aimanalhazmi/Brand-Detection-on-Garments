{
 "cells": [
  {
   "cell_type": "code",
   "execution_count": 1,
   "id": "17928919",
   "metadata": {},
   "outputs": [],
   "source": [
    "%%capture    \n",
    "import os\n",
    "os.environ['FIFTYONE_DATABASE_NAME'] = 'fiftyone-teams'\n",
    "import fiftyone as fo\n",
    "\n",
    "import numpy as np\n",
    "from PIL import Image\n",
    "import pandas as pd\n",
    "import cv2\n",
    "import matplotlib.pyplot as plt ## check to use PIL (low)\n",
    "from tqdm import tqdm\n",
    "from torchvision import datasets, transforms, models\n",
    "# Ignore warnings\n",
    "import warnings\n",
    "warnings.filterwarnings(\"ignore\")"
   ]
  },
  {
   "cell_type": "code",
   "execution_count": 2,
   "id": "11028bcd",
   "metadata": {},
   "outputs": [
    {
     "name": "stdout",
     "output_type": "stream",
     "text": [
      "/home/jovyan/BA/detection/exp/train4/weights/best.pt\n"
     ]
    }
   ],
   "source": [
    "import os\n",
    "\n",
    "CURRENT_DIR = os.getcwd()\n",
    "PATH_TO_YOLO = f'{CURRENT_DIR}/detection/exp/train4/weights/best.pt'\n",
    "YOLO_MODEL = os.path.join(CURRENT_DIR, PATH_TO_YOLO)\n",
    "print(YOLO_MODEL)"
   ]
  },
  {
   "cell_type": "code",
   "execution_count": 3,
   "id": "a103582f",
   "metadata": {},
   "outputs": [],
   "source": [
    "ds = fo.load_dataset(\"sellpy-test\")"
   ]
  },
  {
   "cell_type": "code",
   "execution_count": 4,
   "id": "ff9106fe",
   "metadata": {},
   "outputs": [
    {
     "name": "stdout",
     "output_type": "stream",
     "text": [
      "Dataset:     sellpy-test\n",
      "Media type:  image\n",
      "Num samples: 204676\n",
      "Sample fields:\n",
      "    id:             fiftyone.core.fields.ObjectIdField\n",
      "    filepath:       fiftyone.core.fields.StringField\n",
      "    tags:           fiftyone.core.fields.ListField(fiftyone.core.fields.StringField)\n",
      "    metadata:       fiftyone.core.fields.EmbeddedDocumentField(fiftyone.core.metadata.ImageMetadata)\n",
      "    lvl0:           fiftyone.core.fields.EmbeddedDocumentField(fiftyone.core.labels.Classification)\n",
      "    lvl1:           fiftyone.core.fields.EmbeddedDocumentField(fiftyone.core.labels.Classification)\n",
      "    lvl2:           fiftyone.core.fields.EmbeddedDocumentField(fiftyone.core.labels.Classification)\n",
      "    lvl3:           fiftyone.core.fields.EmbeddedDocumentField(fiftyone.core.labels.Classification)\n",
      "    size:           fiftyone.core.fields.EmbeddedDocumentField(fiftyone.core.labels.Classification)\n",
      "    color:          fiftyone.core.fields.EmbeddedDocumentField(fiftyone.core.labels.Classification)\n",
      "    fabric:         fiftyone.core.fields.EmbeddedDocumentField(fiftyone.core.labels.Classification)\n",
      "    brand:          fiftyone.core.fields.EmbeddedDocumentField(fiftyone.core.labels.Classification)\n",
      "    demography:     fiftyone.core.fields.EmbeddedDocumentField(fiftyone.core.labels.Classification)\n",
      "    type:           fiftyone.core.fields.EmbeddedDocumentField(fiftyone.core.labels.Classification)\n",
      "    Grounding_Dino: fiftyone.core.fields.EmbeddedDocumentField(fiftyone.core.labels.Detections)\n",
      "    yolo:           fiftyone.core.fields.EmbeddedDocumentField(fiftyone.core.labels.Detections)\n",
      "    mask_mannequin: fiftyone.core.fields.EmbeddedDocumentField(fiftyone.core.labels.Segmentation)\n",
      "    mask_neck:      fiftyone.core.fields.EmbeddedDocumentField(fiftyone.core.labels.Segmentation)\n",
      "View stages:\n",
      "    1. Match(filter={'$expr': {'$gt': [...]}})\n"
     ]
    }
   ],
   "source": [
    "#limit = 10000\n",
    "# get all ids\n",
    "ds_temp = ds.match(fo.ViewField(\"Grounding_Dino\") !=  None)\n",
    "print(ds_temp)\n",
    "ids = ds_temp.values(\"id\")\n",
    "# check weather the sample contains a logo\n",
    "contains_logo = [\"logo\" in values for values in ds_temp.values(\"Grounding_Dino.detections.label\")]\n",
    "# get ids of sample containing a logo \n",
    "ids_contains_logo = np.array(ids)[contains_logo]\n",
    "# filter the data set to contain only samples with a logo found\n",
    "ds_with_logos = ds[ids_contains_logo]"
   ]
  },
  {
   "cell_type": "code",
   "execution_count": 7,
   "id": "95990f93",
   "metadata": {},
   "outputs": [
    {
     "data": {
      "text/plain": [
       "5177"
      ]
     },
     "execution_count": 7,
     "metadata": {},
     "output_type": "execute_result"
    }
   ],
   "source": [
    "brand_values = ds_with_logos.count_values(\"brand.label\")\n",
    "brands=list(brand_values.keys())\n",
    "len(brands)"
   ]
  },
  {
   "cell_type": "code",
   "execution_count": 8,
   "id": "44956223",
   "metadata": {},
   "outputs": [],
   "source": [
    "import yaml\n",
    "\n",
    "def get_class_names(yaml_file_path):\n",
    "    \"\"\"\n",
    "    Reads the data.yaml file and extracts the class names.\n",
    "\n",
    "    Parameters:\n",
    "    yaml_file_path (str): The path to the data.yaml file.\n",
    "\n",
    "    Returns:\n",
    "    list: A list of class names.\n",
    "    \"\"\"\n",
    "    with open(yaml_file_path, 'r') as file:\n",
    "        data = yaml.safe_load(file)\n",
    "    return data['names']\n",
    "\n",
    "# Define the path to your data.yaml file\n",
    "yaml_file_path = 'detection/Dataset/data.yaml'\n",
    "\n",
    "# Extract the class names\n",
    "model_classes = get_class_names(yaml_file_path)\n",
    "\n",
    "# Print the class names\n",
    "#print(f\"Class names: {class_names}\")\n"
   ]
  },
  {
   "cell_type": "code",
   "execution_count": 9,
   "id": "3ba1311b",
   "metadata": {},
   "outputs": [
    {
     "name": "stdout",
     "output_type": "stream",
     "text": [
      "Total brands: 5177\n",
      "Garments-brands: 569\n",
      "Total images: 37507\n",
      "Matches found: 118\n",
      "{\"Marc O'Polo\": 56, 'Missoni': 2, 'Head': 5, 'Wolford': 8, 'Champion': 171, 'Canterbury': 2, 'Topman': 8, 'Acqua Limone': 12, 'Zara': 751, 'Skins': 4, 'Akris': 1, 'Calvin Klein Underwear': 1, 'American Apparel': 5, 'Imperial': 1, 'Patagonia': 35, 'Wrangler': 19, 'Ellesse': 87, 'Obey': 7, 'Hummel': 94, 'WeSC': 8, 'Woolrich': 4, 'Napapijri': 28, 'Rocky': 1, 'Givova': 1, 'Vince Camuto': 1, 'The North Face': 168, 'RVCA': 1, 'Polo Ralph Lauren': 252, 'Barbie': 3, 'Etnies': 1, 'Lonsdale': 3, 'Timberland': 11, 'Freya': 3, 'Columbia': 18, 'And1': 2, 'Everlast': 4, 'Kiton': 1, 'La Perla': 1, 'Hugo Boss': 17, 'Calvin Klein': 149, 'Balmain': 1, 'American Eagle': 9, 'Triumph': 25, 'Adidas': 1909, 'Mexx': 33, 'Frank Dandy': 7, 'Los Angeles': 1, 'Moncler': 3, 'Under Armour': 129, 'Emilio': 5, 'Gap': 62, 'Chaps': 1, 'A.P.C': 4, 'Tommy Bahama': 2, 'Joules': 7, 'Berghaus': 3, 'Rockport': 1, 'Antony Morato': 1, 'Lacoste': 57, 'Emilio Pucci': 1, 'Karhu': 25, 'Tiger of Sweden': 46, 'Eddie Bauer': 4, 'Charlotte Russe': 1, 'Pierre Cardin': 4, '66 North': 1, 'Versace': 1, 'Anne Klein': 1, 'Corneliani': 1, 'New Balance': 28, 'Wonderbra': 3, 'Guess': 66, 'Regatta': 7, 'Marc by Marc Jacobs': 3, 'Galvin Green': 9, 'Izod': 3, 'Schiesser': 3, 'Rare': 2, 'Happy Socks': 8, 'Strellson': 2, 'Kate Spade': 1, 'Old Navy': 7, 'Majestic': 3, 'Etro': 3, 'Hanes': 9, 'Hurley': 2, 'New Era': 3, 'Rebecca Minkoff': 1, 'Heat': 1, 'Peak Performance': 296, 'Kenzo': 13, 'Karl Kani': 4, 'Acne Studios': 37, 'Aigle': 1, 'Seafolly': 2, 'Armani Exchange': 4, 'Carhartt': 11, 'French Connection': 3, 'Miss Sixty': 6, 'Pepe Jeans': 25, 'Uniqlo': 46, 'Converse': 35, 'Invicta': 2, 'Sergio Tacchini': 10, 'Tom Tailor': 63, 'Abercrombie & Fitch': 131, 'Ermenegildo Zegna': 1, 'Skiny': 2, 'Hush Puppies': 1, 'Tommy Hilfiger': 366, 'Canada Goose': 2, \"Arc'teryx\": 1, 'Montane': 1, 'Salomon': 21, 'Karl Lagerfeld': 7, 'Spanx': 4, 'Ed Hardy': 6, 'Six Deuce': 1}\n",
      "Total number of images for match brands: 5557\n",
      "...............................................\n"
     ]
    }
   ],
   "source": [
    "import re\n",
    "def normalize_brands(brand_list):\n",
    "    normalized = []\n",
    "    for brand in brand_list:\n",
    "        # Umwandlung in Kleinbuchstaben\n",
    "        brand = brand.lower()\n",
    "        # Entfernen aller Wörter nach dem ersten\n",
    "        #clean_brand = re.sub(r'\\s.*', '', brand)\n",
    "        normalized.append(brand)\n",
    "    return normalized\n",
    "\n",
    "class_names = normalize_brands(model_classes)\n",
    "brands_ubber = normalize_brands(brands)\n",
    "matches = set(class_names).intersection(set(brands_ubber))\n",
    "\n",
    "print(f'Total brands: {len(brands)}')\n",
    "print(f'Garments-brands: {len(class_names)}')\n",
    "\n",
    "print(f'Total images: {sum(brand_values.values())}')\n",
    "# Check if there are any matches\n",
    "if matches:\n",
    "    print(\"Matches found:\", len(matches))\n",
    "else:\n",
    "    print(\"No matches found.\")\n",
    "model_fiftyone_labels_map = {brands[brands_ubber.index(b)]:class_names.index(b) for b in matches}\n",
    "\n",
    "idx = [brands_ubber.index(b) for b in matches]\n",
    "result_dict = {brands[key]:brand_values[brands[key]] for key in idx}\n",
    "print(result_dict)\n",
    "print(f'Total number of images for match brands: {sum(result_dict.values())}')\n",
    "print('...............................................')"
   ]
  },
  {
   "cell_type": "code",
   "execution_count": 10,
   "id": "2c5f592e",
   "metadata": {},
   "outputs": [],
   "source": [
    "dataset_model_classes = ds_with_logos.match(fo.ViewField(\"brand.label\").is_in(result_dict.keys()))"
   ]
  },
  {
   "cell_type": "code",
   "execution_count": 11,
   "id": "65853bd8",
   "metadata": {},
   "outputs": [
    {
     "data": {
      "text/plain": [
       "118"
      ]
     },
     "execution_count": 11,
     "metadata": {},
     "output_type": "execute_result"
    }
   ],
   "source": [
    "brand_values = dataset_model_classes.count_values(\"brand.label\")\n",
    "len(brand_values)"
   ]
  },
  {
   "cell_type": "raw",
   "id": "4d524642",
   "metadata": {},
   "source": [
    "for sample in dataset_model_classes:\n",
    "    brand  = sample.brand.label\n",
    "    for detection in sample.Grounding_Dino.detections:\n",
    "        if detection.label=='logo' and detection.cnfidence>=0.30:        \n",
    "            confidence = detection.cnfidence\n",
    "            print(f' Brand: {brand}, confidence: {confidence}')\n",
    "            img = fo.utils.image.read(sample.get_local_path(\"filepath\"))\n",
    "            plt.imshow(img)\n",
    "            plt.axis('off')\n",
    "            plt.show()\n",
    "            tile = fo.utils.patches.extract_patch(img, detection)\n",
    "            plt.imshow(tile)\n",
    "            plt.axis('off')\n",
    "            plt.show()"
   ]
  },
  {
   "cell_type": "code",
   "execution_count": 12,
   "id": "c35fda29",
   "metadata": {},
   "outputs": [],
   "source": [
    "from ultralytics import YOLO\n",
    "model = YOLO(PATH_TO_YOLO') # load a custom model"
   ]
  },
  {
   "cell_type": "raw",
   "id": "0bb4c28a",
   "metadata": {},
   "source": [
    "def show_predictions(image, results):\n",
    "    plt.figure(figsize=(10, 10))\n",
    "    plt.imshow(image)\n",
    "    ax = plt.gca()\n",
    "\n",
    "    # Draw predictions\n",
    "    for result in results:\n",
    "        for box in result.boxes:\n",
    "            x, y, w, h = box.xywh\n",
    "            label = box.cls\n",
    "            score = box.conf\n",
    "            rect = plt.Rectangle((x - w/2, y - h/2), w, h, fill=False, color='red', linewidth=2)\n",
    "            ax.add_patch(rect)\n",
    "            ax.text(x - w/2, y - h/2, f'{label}: {score:.2f}', color='white', fontsize=12, bbox=dict(facecolor='red', alpha=0.5))\n",
    "    \n",
    "    plt.axis('off')\n",
    "    plt.show()"
   ]
  },
  {
   "cell_type": "code",
   "execution_count": 28,
   "id": "99d5f0ab",
   "metadata": {},
   "outputs": [],
   "source": [
    "import cv2\n",
    "def show_predictions(image, results):\n",
    "    result = results[0]\n",
    "    for box in result.boxes:\n",
    "        class_id = result.names[box.cls[0].item()]\n",
    "        cords = box.xyxy[0].tolist()\n",
    "        cords = [round(x) for x in cords]\n",
    "        conf = round(box.conf[0].item(), 2)\n",
    "        print(\"Object type:\", class_id)\n",
    "        print(\"Coordinates:\", cords)\n",
    "        print(\"Probability:\", conf)\n",
    "        print(\"---\")\n",
    "    im_array = result.plot()  # plot a BGR numpy array of predictions\n",
    "    cv2.imwrite('test/predicted.png',im_array)"
   ]
  },
  {
   "cell_type": "code",
   "execution_count": 29,
   "id": "47ed0bf2",
   "metadata": {},
   "outputs": [
    {
     "name": "stdout",
     "output_type": "stream",
     "text": [
      "\n",
      "image 1/1 /home/jovyan/fiftyone/__cache__/media/minio/sellpy-images-pipeline/yQqYbiYZaD-irOWSZcGb0-c6ae-0.jpg: 640x640 (no detections), 4.2ms\n",
      "Speed: 16.9ms preprocess, 4.2ms inference, 0.4ms postprocess per image at shape (1, 3, 640, 640)\n",
      "Results saved to \u001b[1mruns/detect/predict26\u001b[0m\n"
     ]
    }
   ],
   "source": [
    "for sample in dataset_model_classes:\n",
    "    img = fo.utils.image.read(sample.get_local_path(\"filepath\"))\n",
    "    results = model.predict(sample.get_local_path(\"filepath\"),conf = 0.5, iou = 0.6, save=True)\n",
    "    show_predictions(img, results)\n",
    "    break"
   ]
  },
  {
   "cell_type": "code",
   "execution_count": null,
   "id": "69fbe521",
   "metadata": {},
   "outputs": [],
   "source": []
  },
  {
   "cell_type": "code",
   "execution_count": null,
   "id": "8fab913d",
   "metadata": {},
   "outputs": [],
   "source": []
  },
  {
   "cell_type": "code",
   "execution_count": null,
   "id": "8c2317a2",
   "metadata": {},
   "outputs": [],
   "source": []
  }
 ],
 "metadata": {
  "kernelspec": {
   "display_name": "Python 3 (ipykernel)",
   "language": "python",
   "name": "python3"
  },
  "language_info": {
   "codemirror_mode": {
    "name": "ipython",
    "version": 3
   },
   "file_extension": ".py",
   "mimetype": "text/x-python",
   "name": "python",
   "nbconvert_exporter": "python",
   "pygments_lexer": "ipython3",
   "version": "3.9.13"
  }
 },
 "nbformat": 4,
 "nbformat_minor": 5
}
